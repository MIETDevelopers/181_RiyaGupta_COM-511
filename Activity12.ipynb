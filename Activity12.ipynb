{
 "cells": [
  {
   "cell_type": "code",
   "execution_count": 1,
   "id": "e98d0204",
   "metadata": {
    "collapsed": true
   },
   "outputs": [
    {
     "ename": "IndentationError",
     "evalue": "unexpected indent (937944633.py, line 67)",
     "output_type": "error",
     "traceback": [
      "\u001b[1;36m  Input \u001b[1;32mIn [1]\u001b[1;36m\u001b[0m\n\u001b[1;33m    if (found):\u001b[0m\n\u001b[1;37m    ^\u001b[0m\n\u001b[1;31mIndentationError\u001b[0m\u001b[1;31m:\u001b[0m unexpected indent\n"
     ]
    }
   ],
   "source": [
    "class Employee:\n",
    "    def GetEmployee(self):\n",
    "        print(\"Enter Employee Details : \")\n",
    "        self.__id = input(\"Id : \")\n",
    "        self.__name = input(\"Name : \")\n",
    "        self.__lastname = input(\"Surname : \")\n",
    "        self.__salary = int(input(\"Salary : \"))\n",
    "        self.__grade = input(\"Designation Level (I,II,III) : \")\n",
    "\n",
    "    def PutEmployee(self):\n",
    "        print(self.__id, self.__name, self.__salary)\n",
    "\n",
    "    def Perks(self):\n",
    "        self.PutEmployee()\n",
    "        if (self.__grade == '1'):\n",
    "            da = self.__salary * 40 / 100;\n",
    "            hra = self.__salary * 16 / 100;\n",
    "        elif (self.__grade == '2'):\n",
    "            da = self.__salary * 50 / 100;\n",
    "            hra = self.__salary * 18 / 100;\n",
    "        elif (self.__grade == '3'):\n",
    "            da = self.__salary * 60 / 100;\n",
    "            hra = self.__salary * 20 / 100;\n",
    "\n",
    "        ns = self.__salary + da + hra\n",
    "        print(da, hra, ns)\n",
    "\n",
    "    def Search(self, id):\n",
    "        if id == self.__id:\n",
    "            return True\n",
    "        else:\n",
    "            return False\n",
    "\n",
    "    def search(self, grade):\n",
    "        if grade == self.__grade:\n",
    "            return True\n",
    "        else:\n",
    "            return False\n",
    "    def tsearch(self, lastname):\n",
    "        if lastname == self.__lastname:\n",
    "            return True\n",
    "        else:\n",
    "            return False\n",
    "\n",
    "n = int(input(\"Enter Total No. of Employees?\"))\n",
    "L = list()\n",
    "for i in range(n):\n",
    "    E = Employee()\n",
    "    E.GetEmployee()\n",
    "    L.append(E)\n",
    "id = input(\"Enter Id U Want to Search?\")\n",
    "\n",
    "found = False\n",
    "for e in L:\n",
    "    found = e.Search(id)\n",
    "\n",
    "    if (found):\n",
    "        e.Perks()\n",
    "        break\n",
    "if (not found):\n",
    "    print(\"Employee Not Exist\")\n",
    "\n",
    "lastname = input(\"Employee does not exist\")\n",
    "found = False\n",
    "for e in L:\n",
    "    found = e.tsearch(lastname)\n",
    "     if (found):\n",
    "        e.Perks()\n",
    "        break\n",
    "if (not found):\n",
    "    print(\"Employee does not exist\")\n",
    "\n",
    "grade =input (\"enter designation\")\n",
    "\n",
    "found = False\n",
    "for e in L:\n",
    "    found = e.search(grade)\n",
    "\n",
    "    if (found):\n",
    "        e.Perks()\n",
    "        break\n",
    "if (not found):\n",
    "    print(\"Employee does not exist\")\n"
   ]
  },
  {
   "cell_type": "code",
   "execution_count": null,
   "id": "234f1236",
   "metadata": {},
   "outputs": [],
   "source": []
  }
 ],
 "metadata": {
  "kernelspec": {
   "display_name": "Python 3 (ipykernel)",
   "language": "python",
   "name": "python3"
  },
  "language_info": {
   "codemirror_mode": {
    "name": "ipython",
    "version": 3
   },
   "file_extension": ".py",
   "mimetype": "text/x-python",
   "name": "python",
   "nbconvert_exporter": "python",
   "pygments_lexer": "ipython3",
   "version": "3.9.12"
  }
 },
 "nbformat": 4,
 "nbformat_minor": 5
}
