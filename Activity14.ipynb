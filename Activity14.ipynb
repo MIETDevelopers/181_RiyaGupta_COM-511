{
 "cells": [
  {
   "cell_type": "code",
   "execution_count": null,
   "id": "71c52004",
   "metadata": {},
   "outputs": [],
   "source": [
    "class parent:\n",
    "    def input_value(self):\n",
    "        self.length\n",
    "        self.breadth\n",
    "        self.height\n",
    "class child(parent):\n",
    "    def surface_area(self):\n",
    "        print(\"Surface area of cuboid\",2*((self.length*self.breadth)+(self.breadth*self.height)+(self.height*self.length)))\n",
    "        \n",
    "    def Volume(self):\n",
    "        print(\"Volume of cuboid\",self.length+self.breadth+self.height)\n",
    "        \n",
    "obj=child()\n",
    "print(\"Cuboid program\")\n",
    "obj.length=int(input(\"Enter the length\"))\n",
    "obj.breadth=int(input(\"Enter the breadth\"))\n",
    "obj.height=int(input(\"Enter the height\"))\n",
    "obj.surface_area()\n",
    "obj.Volume()"
   ]
  }
 ],
 "metadata": {
  "kernelspec": {
   "display_name": "Python 3 (ipykernel)",
   "language": "python",
   "name": "python3"
  },
  "language_info": {
   "codemirror_mode": {
    "name": "ipython",
    "version": 3
   },
   "file_extension": ".py",
   "mimetype": "text/x-python",
   "name": "python",
   "nbconvert_exporter": "python",
   "pygments_lexer": "ipython3",
   "version": "3.9.12"
  }
 },
 "nbformat": 4,
 "nbformat_minor": 5
}
